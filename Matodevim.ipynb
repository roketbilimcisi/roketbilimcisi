{
  "nbformat": 4,
  "nbformat_minor": 0,
  "metadata": {
    "colab": {
      "provenance": [],
      "authorship_tag": "ABX9TyO97BuyAry4fflqVFk9Z2M6",
      "include_colab_link": true
    },
    "kernelspec": {
      "name": "python3",
      "display_name": "Python 3"
    },
    "language_info": {
      "name": "python"
    }
  },
  "cells": [
    {
      "cell_type": "markdown",
      "metadata": {
        "id": "view-in-github",
        "colab_type": "text"
      },
      "source": [
        "<a href=\"https://colab.research.google.com/github/roketbilimcisi/roketbilimcisi/blob/main/Matodevim.ipynb\" target=\"_parent\"><img src=\"https://colab.research.google.com/assets/colab-badge.svg\" alt=\"Open In Colab\"/></a>"
      ]
    },
    {
      "cell_type": "markdown",
      "source": [
        "# **Soru 1**"
      ],
      "metadata": {
        "id": "w-ez5sxXBGtT"
      }
    },
    {
      "cell_type": "code",
      "source": [
        "import sympy\n",
        "x = sympy.symbols('x')\n",
        "f = x**2 * sympy.exp(x)\n",
        "alt_sinir = 1\n",
        "ust_sinir = 2\n",
        "integral_sonucu = sympy.integrate(f, (x, alt_sinir, ust_sinir))\n",
        "print(f\"Fonksiyon: {f}\")\n",
        "print(f\"İntegral Sınırları: [{alt_sinir}, {ust_sinir}]\")\n",
        "print(\"-\" * 30)\n",
        "print(f\"İntegralin kesin (sembolik) sonucu: {integral_sonucu}\")\n",
        "print(f\"Sonucun yaklaşık sayısal değeri: {integral_sonucu.evalf()}\")\n",
        "print(f\"(Beklenen değer: 2e² - e ≈ {2*sympy.E**2 - sympy.E.evalf()})\")"
      ],
      "metadata": {
        "colab": {
          "base_uri": "https://localhost:8080/"
        },
        "id": "3Un_3pt2BIk0",
        "outputId": "0f74c956-6fbe-4564-ab92-e57acf2434ae"
      },
      "execution_count": 1,
      "outputs": [
        {
          "output_type": "stream",
          "name": "stdout",
          "text": [
            "Fonksiyon: x**2*exp(x)\n",
            "İntegral Sınırları: [1, 2]\n",
            "------------------------------\n",
            "İntegralin kesin (sembolik) sonucu: -E + 2*exp(2)\n",
            "Sonucun yaklaşık sayısal değeri: 12.0598303694023\n",
            "(Beklenen değer: 2e² - e ≈ -2.71828182845905 + 2*exp(2))\n"
          ]
        }
      ]
    },
    {
      "cell_type": "markdown",
      "source": [
        "# **Soru 2**"
      ],
      "metadata": {
        "id": "TWoHQ2RZBLP6"
      }
    },
    {
      "cell_type": "code",
      "source": [
        "import sympy\n",
        "x = sympy.symbols('x')\n",
        "f = 4*x**3 - 3*x**2 + 2\n",
        "alt_sinir = -1\n",
        "ust_sinir = 2\n",
        "integral_sonucu = sympy.integrate(f, (x, alt_sinir, ust_sinir))\n",
        "print(f\"İntegrali Alınacak Fonksiyon: {f}\")\n",
        "print(f\"İntegral Sınırları: [{alt_sinir}, {ust_sinir}]\")\n",
        "print(\"-\" * 40)\n",
        "print(f\"İntegralin Hesaplanan Sonucu: {integral_sonucu}\")"
      ],
      "metadata": {
        "colab": {
          "base_uri": "https://localhost:8080/"
        },
        "id": "1xJKMA-BBMqX",
        "outputId": "52483292-b228-4bb1-ca62-41e5c188514b"
      },
      "execution_count": 2,
      "outputs": [
        {
          "output_type": "stream",
          "name": "stdout",
          "text": [
            "İntegrali Alınacak Fonksiyon: 4*x**3 - 3*x**2 + 2\n",
            "İntegral Sınırları: [-1, 2]\n",
            "----------------------------------------\n",
            "İntegralin Hesaplanan Sonucu: 12\n"
          ]
        }
      ]
    },
    {
      "cell_type": "markdown",
      "source": [
        "# **Soru 3**"
      ],
      "metadata": {
        "id": "XmDchwypBOfV"
      }
    },
    {
      "cell_type": "code",
      "source": [
        "import sympy\n",
        "x = sympy.symbols('x')\n",
        "f = x**4 * sympy.exp(-x)\n",
        "alt_sinir = 0\n",
        "ust_sinir = 1\n",
        "integral_sonucu = sympy.integrate(f, (x, alt_sinir, ust_sinir))\n",
        "print(f\"İntegrali Alınacak Fonksiyon: {f}\")\n",
        "print(f\"İntegral Sınırları: [{alt_sinir}, {ust_sinir}]\")\n",
        "print(\"-\" * 40)\n",
        "print(f\"İntegralin Hesaplanan Sonucu: {integral_sonucu}\")\n",
        "print(f\"Sonucun Yaklaşık Sayısal Değeri: {integral_sonucu.evalf()}\")\n",
        "print(f\"(Beklenen Değer: 24 - 65/e ≈ {(24 - 65/sympy.E).evalf()})\")"
      ],
      "metadata": {
        "colab": {
          "base_uri": "https://localhost:8080/"
        },
        "id": "TKCTB1BbBPfd",
        "outputId": "e7533a9e-c714-4d51-c31e-acf7a8e0e9b6"
      },
      "execution_count": 3,
      "outputs": [
        {
          "output_type": "stream",
          "name": "stdout",
          "text": [
            "İntegrali Alınacak Fonksiyon: x**4*exp(-x)\n",
            "İntegral Sınırları: [0, 1]\n",
            "----------------------------------------\n",
            "İntegralin Hesaplanan Sonucu: 24 - 65*exp(-1)\n",
            "Sonucun Yaklaşık Sayısal Değeri: 0.0878363238562491\n",
            "(Beklenen Değer: 24 - 65/e ≈ 0.0878363238562491)\n"
          ]
        }
      ]
    },
    {
      "cell_type": "markdown",
      "source": [
        "# **Soru 4**"
      ],
      "metadata": {
        "id": "zHG0_9i7BRhq"
      }
    },
    {
      "cell_type": "code",
      "source": [
        "import numpy as np\n",
        "from scipy.integrate import quad\n",
        "import warnings\n",
        "def integrand(x):\n",
        "    return 1 / (x**2 - 6*x + 5)\n",
        "a, b = 0, 3\n",
        "discontinuities = [1, 5]\n",
        "has_discontinuity = any(a < d < b for d in discontinuities)\n",
        "if has_discontinuity:\n",
        "    print(\"İntegral, tanım aralığında paydanın sıfır olduğu bir noktaya sahip (x = 1).\")\n",
        "    print(\"Bu nedenle integral matematiksel olarak tanımsızdır.\")\n",
        "else:\n",
        "    with warnings.catch_warnings():\n",
        "        warnings.simplefilter(\"ignore\")\n",
        "        result, _ = quad(integrand, a, b)\n",
        "        print(\"Integral değeri (yaklaşık):\", result)"
      ],
      "metadata": {
        "colab": {
          "base_uri": "https://localhost:8080/"
        },
        "id": "r0ZppBt2BSmw",
        "outputId": "decdc33f-df49-4b9c-bfcd-ef8e4657d40d"
      },
      "execution_count": 4,
      "outputs": [
        {
          "output_type": "stream",
          "name": "stdout",
          "text": [
            "İntegral, tanım aralığında paydanın sıfır olduğu bir noktaya sahip (x = 1).\n",
            "Bu nedenle integral matematiksel olarak tanımsızdır.\n"
          ]
        }
      ]
    }
  ]
}